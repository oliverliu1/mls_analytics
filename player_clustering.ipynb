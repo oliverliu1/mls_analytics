{
 "cells": [
  {
   "cell_type": "code",
   "execution_count": 1,
   "id": "50068336",
   "metadata": {},
   "outputs": [],
   "source": [
    "import pandas as pd\n",
    "from pathlib import Path\n",
    "from sklearn.cluster import KMeans\n",
    "from yellowbrick.cluster import KElbowVisualizer"
   ]
  },
  {
   "cell_type": "markdown",
   "id": "b3ff7c2d",
   "metadata": {},
   "source": [
    "## To-Do\n",
    "\n",
    "1. Impute SOG%\n",
    "2. Standardize/ normalize data\n",
    "3. Visualization\n",
    "4. Distance calculation"
   ]
  },
  {
   "cell_type": "code",
   "execution_count": 2,
   "id": "b1db7de5",
   "metadata": {},
   "outputs": [],
   "source": [
    "path = Path.home() / 'Downloads' / 'mls'\n",
    "p = path.glob('**/*')\n",
    "files = [x for x in p if x.is_file()]\n",
    "file_path = path / 'all_players.csv'\n",
    "df_players = pd.read_csv(file_path)"
   ]
  },
  {
   "cell_type": "code",
   "execution_count": 3,
   "id": "2a42799d",
   "metadata": {},
   "outputs": [
    {
     "data": {
      "text/plain": [
       "array(['reg', 'post'], dtype=object)"
      ]
     },
     "execution_count": 3,
     "metadata": {},
     "output_type": "execute_result"
    }
   ],
   "source": [
    "df_players[\"Season\"].unique()"
   ]
  },
  {
   "cell_type": "code",
   "execution_count": 4,
   "id": "469e58f3",
   "metadata": {
    "scrolled": true
   },
   "outputs": [
    {
     "name": "stdout",
     "output_type": "stream",
     "text": [
      "<class 'pandas.core.frame.DataFrame'>\n",
      "RangeIndex: 15767 entries, 0 to 15766\n",
      "Data columns (total 28 columns):\n",
      " #   Column   Non-Null Count  Dtype  \n",
      "---  ------   --------------  -----  \n",
      " 0   Player   15767 non-null  object \n",
      " 1   Club     10274 non-null  object \n",
      " 2   POS      15767 non-null  object \n",
      " 3   GP       15767 non-null  int64  \n",
      " 4   GS       15767 non-null  int64  \n",
      " 5   MINS     15767 non-null  int64  \n",
      " 6   G        15767 non-null  int64  \n",
      " 7   A        15767 non-null  int64  \n",
      " 8   SHTS     15767 non-null  int64  \n",
      " 9   SOG      15767 non-null  int64  \n",
      " 10  GWG      15767 non-null  int64  \n",
      " 11  PKG/A    15767 non-null  object \n",
      " 12  HmG      15767 non-null  int64  \n",
      " 13  RdG      15767 non-null  int64  \n",
      " 14  G/90min  15767 non-null  float64\n",
      " 15  SC%      15767 non-null  float64\n",
      " 16  GWA      15767 non-null  int64  \n",
      " 17  HmA      15767 non-null  int64  \n",
      " 18  RdA      15767 non-null  int64  \n",
      " 19  A/90min  15767 non-null  float64\n",
      " 20  FC       15767 non-null  int64  \n",
      " 21  FS       15767 non-null  int64  \n",
      " 22  OFF      15767 non-null  int64  \n",
      " 23  YC       15767 non-null  int64  \n",
      " 24  RC       15767 non-null  int64  \n",
      " 25  SOG%     10697 non-null  float64\n",
      " 26  Year     15767 non-null  int64  \n",
      " 27  Season   15767 non-null  object \n",
      "dtypes: float64(4), int64(19), object(5)\n",
      "memory usage: 3.4+ MB\n"
     ]
    }
   ],
   "source": [
    "df_players.info()"
   ]
  },
  {
   "cell_type": "code",
   "execution_count": 5,
   "id": "c6a4b177",
   "metadata": {},
   "outputs": [],
   "source": [
    "df_players = df_players.query('Season == \"reg\" & Year == 2019')"
   ]
  },
  {
   "cell_type": "code",
   "execution_count": 6,
   "id": "ac98babd",
   "metadata": {},
   "outputs": [
    {
     "data": {
      "text/plain": [
       "625"
      ]
     },
     "execution_count": 6,
     "metadata": {},
     "output_type": "execute_result"
    }
   ],
   "source": [
    "df_players.Player.nunique()"
   ]
  },
  {
   "cell_type": "code",
   "execution_count": 7,
   "id": "06f75437",
   "metadata": {},
   "outputs": [
    {
     "data": {
      "text/plain": [
       "(625, 28)"
      ]
     },
     "execution_count": 7,
     "metadata": {},
     "output_type": "execute_result"
    }
   ],
   "source": [
    "df_players.shape"
   ]
  },
  {
   "cell_type": "markdown",
   "id": "f72b0848",
   "metadata": {},
   "source": [
    "So every player has 1 row"
   ]
  },
  {
   "cell_type": "code",
   "execution_count": 8,
   "id": "58fc7a08",
   "metadata": {},
   "outputs": [],
   "source": [
    "features_remove = ['Club', 'POS', 'PKG/A', 'Year', 'Season', 'SOG%']"
   ]
  },
  {
   "cell_type": "code",
   "execution_count": 9,
   "id": "fead902f",
   "metadata": {},
   "outputs": [],
   "source": [
    "features = [item for item in df_players.columns.tolist() if item not in features_remove]"
   ]
  },
  {
   "cell_type": "code",
   "execution_count": 10,
   "id": "7b18325c",
   "metadata": {},
   "outputs": [
    {
     "data": {
      "text/plain": [
       "['Player',\n",
       " 'GP',\n",
       " 'GS',\n",
       " 'MINS',\n",
       " 'G',\n",
       " 'A',\n",
       " 'SHTS',\n",
       " 'SOG',\n",
       " 'GWG',\n",
       " 'HmG',\n",
       " 'RdG',\n",
       " 'G/90min',\n",
       " 'SC%',\n",
       " 'GWA',\n",
       " 'HmA',\n",
       " 'RdA',\n",
       " 'A/90min',\n",
       " 'FC',\n",
       " 'FS',\n",
       " 'OFF',\n",
       " 'YC',\n",
       " 'RC']"
      ]
     },
     "execution_count": 10,
     "metadata": {},
     "output_type": "execute_result"
    }
   ],
   "source": [
    "features"
   ]
  },
  {
   "cell_type": "code",
   "execution_count": 11,
   "id": "ac1fcb62",
   "metadata": {},
   "outputs": [],
   "source": [
    "df_players = df_players[features]"
   ]
  },
  {
   "cell_type": "code",
   "execution_count": 12,
   "id": "a72cb5d2",
   "metadata": {},
   "outputs": [
    {
     "name": "stdout",
     "output_type": "stream",
     "text": [
      "<class 'pandas.core.frame.DataFrame'>\n",
      "Int64Index: 625 entries, 8958 to 9582\n",
      "Data columns (total 22 columns):\n",
      " #   Column   Non-Null Count  Dtype  \n",
      "---  ------   --------------  -----  \n",
      " 0   Player   625 non-null    object \n",
      " 1   GP       625 non-null    int64  \n",
      " 2   GS       625 non-null    int64  \n",
      " 3   MINS     625 non-null    int64  \n",
      " 4   G        625 non-null    int64  \n",
      " 5   A        625 non-null    int64  \n",
      " 6   SHTS     625 non-null    int64  \n",
      " 7   SOG      625 non-null    int64  \n",
      " 8   GWG      625 non-null    int64  \n",
      " 9   HmG      625 non-null    int64  \n",
      " 10  RdG      625 non-null    int64  \n",
      " 11  G/90min  625 non-null    float64\n",
      " 12  SC%      625 non-null    float64\n",
      " 13  GWA      625 non-null    int64  \n",
      " 14  HmA      625 non-null    int64  \n",
      " 15  RdA      625 non-null    int64  \n",
      " 16  A/90min  625 non-null    float64\n",
      " 17  FC       625 non-null    int64  \n",
      " 18  FS       625 non-null    int64  \n",
      " 19  OFF      625 non-null    int64  \n",
      " 20  YC       625 non-null    int64  \n",
      " 21  RC       625 non-null    int64  \n",
      "dtypes: float64(3), int64(18), object(1)\n",
      "memory usage: 112.3+ KB\n"
     ]
    }
   ],
   "source": [
    "df_players.info()"
   ]
  },
  {
   "cell_type": "code",
   "execution_count": 19,
   "id": "0efc2189",
   "metadata": {},
   "outputs": [
    {
     "data": {
      "image/png": "[encoded data removed]",
      "text/plain": [
       "<Figure size 576x396 with 2 Axes>"
      ]
     },
     "metadata": {},
     "output_type": "display_data"
    },
    {
     "data": {
      "text/plain": [
       "<AxesSubplot:title={'center':'Distortion Score Elbow for KMeans Clustering'}, xlabel='k', ylabel='distortion score'>"
      ]
     },
     "execution_count": 19,
     "metadata": {},
     "output_type": "execute_result"
    }
   ],
   "source": [
    "X = df_players.iloc[:, 1:].values\n",
    "\n",
    "# Instantiate the clustering model and visualizer\n",
    "model = KMeans()\n",
    "visualizer = KElbowVisualizer(model, k=(2,12))\n",
    "\n",
    "visualizer.fit(X)        # Fit the data to the visualizer\n",
    "visualizer.show()        # Finalize and render the figure"
   ]
  },
  {
   "cell_type": "markdown",
   "id": "905fa3c2",
   "metadata": {},
   "source": [
    "So 4 is the best number of clusters. We'll build a clustering model using $n=4$."
   ]
  },
  {
   "cell_type": "code",
   "execution_count": 26,
   "id": "54f74a03",
   "metadata": {},
   "outputs": [],
   "source": [
    "kmeans = KMeans(n_clusters=4, random_state=0).fit(X)\n",
    "df_players['player_type'] = kmeans.labels_\n",
    "\n",
    "# kmeans.cluster_centers_"
   ]
  },
  {
   "cell_type": "code",
   "execution_count": 32,
   "id": "904ecf1d",
   "metadata": {},
   "outputs": [
    {
     "data": {
      "text/html": [
       "<div>\n",
       "<style scoped>\n",
       "    .dataframe tbody tr th:only-of-type {\n",
       "        vertical-align: middle;\n",
       "    }\n",
       "\n",
       "    .dataframe tbody tr th {\n",
       "        vertical-align: top;\n",
       "    }\n",
       "\n",
       "    .dataframe thead th {\n",
       "        text-align: right;\n",
       "    }\n",
       "</style>\n",
       "<table border=\"1\" class=\"dataframe\">\n",
       "  <thead>\n",
       "    <tr style=\"text-align: right;\">\n",
       "      <th></th>\n",
       "      <th>Player</th>\n",
       "      <th>GP</th>\n",
       "      <th>GS</th>\n",
       "      <th>MINS</th>\n",
       "      <th>G</th>\n",
       "      <th>A</th>\n",
       "      <th>SHTS</th>\n",
       "      <th>SOG</th>\n",
       "      <th>GWG</th>\n",
       "      <th>HmG</th>\n",
       "      <th>...</th>\n",
       "      <th>GWA</th>\n",
       "      <th>HmA</th>\n",
       "      <th>RdA</th>\n",
       "      <th>A/90min</th>\n",
       "      <th>FC</th>\n",
       "      <th>FS</th>\n",
       "      <th>OFF</th>\n",
       "      <th>YC</th>\n",
       "      <th>RC</th>\n",
       "      <th>player_type</th>\n",
       "    </tr>\n",
       "  </thead>\n",
       "  <tbody>\n",
       "    <tr>\n",
       "      <th>8995</th>\n",
       "      <td>Diego Valeri</td>\n",
       "      <td>31</td>\n",
       "      <td>29</td>\n",
       "      <td>2600</td>\n",
       "      <td>8</td>\n",
       "      <td>16</td>\n",
       "      <td>83</td>\n",
       "      <td>32</td>\n",
       "      <td>2</td>\n",
       "      <td>5</td>\n",
       "      <td>...</td>\n",
       "      <td>7</td>\n",
       "      <td>8</td>\n",
       "      <td>8</td>\n",
       "      <td>0.55</td>\n",
       "      <td>26</td>\n",
       "      <td>32</td>\n",
       "      <td>13</td>\n",
       "      <td>4</td>\n",
       "      <td>0</td>\n",
       "      <td>1</td>\n",
       "    </tr>\n",
       "    <tr>\n",
       "      <th>9128</th>\n",
       "      <td>Kellyn Acosta</td>\n",
       "      <td>31</td>\n",
       "      <td>30</td>\n",
       "      <td>2619</td>\n",
       "      <td>2</td>\n",
       "      <td>2</td>\n",
       "      <td>35</td>\n",
       "      <td>12</td>\n",
       "      <td>0</td>\n",
       "      <td>2</td>\n",
       "      <td>...</td>\n",
       "      <td>0</td>\n",
       "      <td>1</td>\n",
       "      <td>1</td>\n",
       "      <td>0.07</td>\n",
       "      <td>47</td>\n",
       "      <td>20</td>\n",
       "      <td>0</td>\n",
       "      <td>9</td>\n",
       "      <td>1</td>\n",
       "      <td>1</td>\n",
       "    </tr>\n",
       "    <tr>\n",
       "      <th>9033</th>\n",
       "      <td>Michael Barrios</td>\n",
       "      <td>32</td>\n",
       "      <td>31</td>\n",
       "      <td>2731</td>\n",
       "      <td>5</td>\n",
       "      <td>15</td>\n",
       "      <td>56</td>\n",
       "      <td>18</td>\n",
       "      <td>1</td>\n",
       "      <td>5</td>\n",
       "      <td>...</td>\n",
       "      <td>3</td>\n",
       "      <td>8</td>\n",
       "      <td>7</td>\n",
       "      <td>0.49</td>\n",
       "      <td>53</td>\n",
       "      <td>36</td>\n",
       "      <td>10</td>\n",
       "      <td>6</td>\n",
       "      <td>0</td>\n",
       "      <td>1</td>\n",
       "    </tr>\n",
       "    <tr>\n",
       "      <th>8983</th>\n",
       "      <td>Carles Gil</td>\n",
       "      <td>34</td>\n",
       "      <td>34</td>\n",
       "      <td>3052</td>\n",
       "      <td>10</td>\n",
       "      <td>14</td>\n",
       "      <td>67</td>\n",
       "      <td>24</td>\n",
       "      <td>1</td>\n",
       "      <td>3</td>\n",
       "      <td>...</td>\n",
       "      <td>4</td>\n",
       "      <td>6</td>\n",
       "      <td>8</td>\n",
       "      <td>0.41</td>\n",
       "      <td>15</td>\n",
       "      <td>87</td>\n",
       "      <td>3</td>\n",
       "      <td>6</td>\n",
       "      <td>0</td>\n",
       "      <td>1</td>\n",
       "    </tr>\n",
       "    <tr>\n",
       "      <th>9155</th>\n",
       "      <td>Anton Tinnerholm</td>\n",
       "      <td>30</td>\n",
       "      <td>30</td>\n",
       "      <td>2632</td>\n",
       "      <td>1</td>\n",
       "      <td>8</td>\n",
       "      <td>32</td>\n",
       "      <td>12</td>\n",
       "      <td>0</td>\n",
       "      <td>1</td>\n",
       "      <td>...</td>\n",
       "      <td>2</td>\n",
       "      <td>4</td>\n",
       "      <td>4</td>\n",
       "      <td>0.27</td>\n",
       "      <td>22</td>\n",
       "      <td>28</td>\n",
       "      <td>7</td>\n",
       "      <td>4</td>\n",
       "      <td>0</td>\n",
       "      <td>1</td>\n",
       "    </tr>\n",
       "    <tr>\n",
       "      <th>8959</th>\n",
       "      <td>Zlatan Ibrahimovic</td>\n",
       "      <td>29</td>\n",
       "      <td>29</td>\n",
       "      <td>2610</td>\n",
       "      <td>30</td>\n",
       "      <td>7</td>\n",
       "      <td>151</td>\n",
       "      <td>65</td>\n",
       "      <td>9</td>\n",
       "      <td>22</td>\n",
       "      <td>...</td>\n",
       "      <td>3</td>\n",
       "      <td>2</td>\n",
       "      <td>5</td>\n",
       "      <td>0.24</td>\n",
       "      <td>51</td>\n",
       "      <td>28</td>\n",
       "      <td>44</td>\n",
       "      <td>7</td>\n",
       "      <td>0</td>\n",
       "      <td>1</td>\n",
       "    </tr>\n",
       "    <tr>\n",
       "      <th>8978</th>\n",
       "      <td>Pedro Santos</td>\n",
       "      <td>33</td>\n",
       "      <td>30</td>\n",
       "      <td>2763</td>\n",
       "      <td>11</td>\n",
       "      <td>6</td>\n",
       "      <td>75</td>\n",
       "      <td>21</td>\n",
       "      <td>2</td>\n",
       "      <td>8</td>\n",
       "      <td>...</td>\n",
       "      <td>4</td>\n",
       "      <td>3</td>\n",
       "      <td>3</td>\n",
       "      <td>0.20</td>\n",
       "      <td>33</td>\n",
       "      <td>81</td>\n",
       "      <td>6</td>\n",
       "      <td>7</td>\n",
       "      <td>0</td>\n",
       "      <td>1</td>\n",
       "    </tr>\n",
       "    <tr>\n",
       "      <th>9581</th>\n",
       "      <td>Miles Robinson</td>\n",
       "      <td>34</td>\n",
       "      <td>33</td>\n",
       "      <td>2978</td>\n",
       "      <td>0</td>\n",
       "      <td>0</td>\n",
       "      <td>19</td>\n",
       "      <td>6</td>\n",
       "      <td>0</td>\n",
       "      <td>0</td>\n",
       "      <td>...</td>\n",
       "      <td>0</td>\n",
       "      <td>0</td>\n",
       "      <td>0</td>\n",
       "      <td>0.00</td>\n",
       "      <td>23</td>\n",
       "      <td>26</td>\n",
       "      <td>0</td>\n",
       "      <td>4</td>\n",
       "      <td>0</td>\n",
       "      <td>1</td>\n",
       "    </tr>\n",
       "    <tr>\n",
       "      <th>9576</th>\n",
       "      <td>Artur</td>\n",
       "      <td>30</td>\n",
       "      <td>28</td>\n",
       "      <td>2452</td>\n",
       "      <td>0</td>\n",
       "      <td>0</td>\n",
       "      <td>15</td>\n",
       "      <td>3</td>\n",
       "      <td>0</td>\n",
       "      <td>0</td>\n",
       "      <td>...</td>\n",
       "      <td>0</td>\n",
       "      <td>0</td>\n",
       "      <td>0</td>\n",
       "      <td>0.00</td>\n",
       "      <td>48</td>\n",
       "      <td>17</td>\n",
       "      <td>2</td>\n",
       "      <td>4</td>\n",
       "      <td>0</td>\n",
       "      <td>1</td>\n",
       "    </tr>\n",
       "    <tr>\n",
       "      <th>9161</th>\n",
       "      <td>Leonardo Jara</td>\n",
       "      <td>30</td>\n",
       "      <td>25</td>\n",
       "      <td>2291</td>\n",
       "      <td>1</td>\n",
       "      <td>5</td>\n",
       "      <td>34</td>\n",
       "      <td>4</td>\n",
       "      <td>0</td>\n",
       "      <td>1</td>\n",
       "      <td>...</td>\n",
       "      <td>0</td>\n",
       "      <td>4</td>\n",
       "      <td>1</td>\n",
       "      <td>0.20</td>\n",
       "      <td>27</td>\n",
       "      <td>30</td>\n",
       "      <td>0</td>\n",
       "      <td>5</td>\n",
       "      <td>0</td>\n",
       "      <td>1</td>\n",
       "    </tr>\n",
       "  </tbody>\n",
       "</table>\n",
       "<p>10 rows × 23 columns</p>\n",
       "</div>"
      ],
      "text/plain": [
       "                  Player  GP  GS  MINS   G   A  SHTS  SOG  GWG  HmG  ...  GWA  \\\n",
       "8995        Diego Valeri  31  29  2600   8  16    83   32    2    5  ...    7   \n",
       "9128       Kellyn Acosta  31  30  2619   2   2    35   12    0    2  ...    0   \n",
       "9033     Michael Barrios  32  31  2731   5  15    56   18    1    5  ...    3   \n",
       "8983          Carles Gil  34  34  3052  10  14    67   24    1    3  ...    4   \n",
       "9155    Anton Tinnerholm  30  30  2632   1   8    32   12    0    1  ...    2   \n",
       "8959  Zlatan Ibrahimovic  29  29  2610  30   7   151   65    9   22  ...    3   \n",
       "8978        Pedro Santos  33  30  2763  11   6    75   21    2    8  ...    4   \n",
       "9581      Miles Robinson  34  33  2978   0   0    19    6    0    0  ...    0   \n",
       "9576               Artur  30  28  2452   0   0    15    3    0    0  ...    0   \n",
       "9161       Leonardo Jara  30  25  2291   1   5    34    4    0    1  ...    0   \n",
       "\n",
       "      HmA  RdA  A/90min  FC  FS  OFF  YC  RC  player_type  \n",
       "8995    8    8     0.55  26  32   13   4   0            1  \n",
       "9128    1    1     0.07  47  20    0   9   1            1  \n",
       "9033    8    7     0.49  53  36   10   6   0            1  \n",
       "8983    6    8     0.41  15  87    3   6   0            1  \n",
       "9155    4    4     0.27  22  28    7   4   0            1  \n",
       "8959    2    5     0.24  51  28   44   7   0            1  \n",
       "8978    3    3     0.20  33  81    6   7   0            1  \n",
       "9581    0    0     0.00  23  26    0   4   0            1  \n",
       "9576    0    0     0.00  48  17    2   4   0            1  \n",
       "9161    4    1     0.20  27  30    0   5   0            1  \n",
       "\n",
       "[10 rows x 23 columns]"
      ]
     },
     "execution_count": 32,
     "metadata": {},
     "output_type": "execute_result"
    }
   ],
   "source": [
    "df_players.query('player_type == 1').sample(10)"
   ]
  },
  {
   "cell_type": "code",
   "execution_count": 34,
   "id": "c0fc8598",
   "metadata": {},
   "outputs": [
    {
     "data": {
      "text/html": [
       "<div>\n",
       "<style scoped>\n",
       "    .dataframe tbody tr th:only-of-type {\n",
       "        vertical-align: middle;\n",
       "    }\n",
       "\n",
       "    .dataframe tbody tr th {\n",
       "        vertical-align: top;\n",
       "    }\n",
       "\n",
       "    .dataframe thead th {\n",
       "        text-align: right;\n",
       "    }\n",
       "</style>\n",
       "<table border=\"1\" class=\"dataframe\">\n",
       "  <thead>\n",
       "    <tr style=\"text-align: right;\">\n",
       "      <th></th>\n",
       "      <th>Player</th>\n",
       "      <th>GP</th>\n",
       "      <th>GS</th>\n",
       "      <th>MINS</th>\n",
       "      <th>G</th>\n",
       "      <th>A</th>\n",
       "      <th>SHTS</th>\n",
       "      <th>SOG</th>\n",
       "      <th>GWG</th>\n",
       "      <th>HmG</th>\n",
       "      <th>...</th>\n",
       "      <th>GWA</th>\n",
       "      <th>HmA</th>\n",
       "      <th>RdA</th>\n",
       "      <th>A/90min</th>\n",
       "      <th>FC</th>\n",
       "      <th>FS</th>\n",
       "      <th>OFF</th>\n",
       "      <th>YC</th>\n",
       "      <th>RC</th>\n",
       "      <th>player_type</th>\n",
       "    </tr>\n",
       "  </thead>\n",
       "  <tbody>\n",
       "    <tr>\n",
       "      <th>8969</th>\n",
       "      <td>Alejandro Pozuelo</td>\n",
       "      <td>30</td>\n",
       "      <td>28</td>\n",
       "      <td>2524</td>\n",
       "      <td>12</td>\n",
       "      <td>12</td>\n",
       "      <td>76</td>\n",
       "      <td>31</td>\n",
       "      <td>4</td>\n",
       "      <td>10</td>\n",
       "      <td>...</td>\n",
       "      <td>2</td>\n",
       "      <td>6</td>\n",
       "      <td>6</td>\n",
       "      <td>0.43</td>\n",
       "      <td>32</td>\n",
       "      <td>54</td>\n",
       "      <td>5</td>\n",
       "      <td>4</td>\n",
       "      <td>1</td>\n",
       "      <td>1</td>\n",
       "    </tr>\n",
       "  </tbody>\n",
       "</table>\n",
       "<p>1 rows × 23 columns</p>\n",
       "</div>"
      ],
      "text/plain": [
       "                 Player  GP  GS  MINS   G   A  SHTS  SOG  GWG  HmG  ...  GWA  \\\n",
       "8969  Alejandro Pozuelo  30  28  2524  12  12    76   31    4   10  ...    2   \n",
       "\n",
       "      HmA  RdA  A/90min  FC  FS  OFF  YC  RC  player_type  \n",
       "8969    6    6     0.43  32  54    5   4   1            1  \n",
       "\n",
       "[1 rows x 23 columns]"
      ]
     },
     "execution_count": 34,
     "metadata": {},
     "output_type": "execute_result"
    }
   ],
   "source": [
    "df_players.query('Player == \"Alejandro Pozuelo\"')"
   ]
  },
  {
   "cell_type": "code",
   "execution_count": 35,
   "id": "d9f0aba1",
   "metadata": {},
   "outputs": [
    {
     "data": {
      "text/html": [
       "<div>\n",
       "<style scoped>\n",
       "    .dataframe tbody tr th:only-of-type {\n",
       "        vertical-align: middle;\n",
       "    }\n",
       "\n",
       "    .dataframe tbody tr th {\n",
       "        vertical-align: top;\n",
       "    }\n",
       "\n",
       "    .dataframe thead th {\n",
       "        text-align: right;\n",
       "    }\n",
       "</style>\n",
       "<table border=\"1\" class=\"dataframe\">\n",
       "  <thead>\n",
       "    <tr style=\"text-align: right;\">\n",
       "      <th></th>\n",
       "      <th>Player</th>\n",
       "      <th>GP</th>\n",
       "      <th>GS</th>\n",
       "      <th>MINS</th>\n",
       "      <th>G</th>\n",
       "      <th>A</th>\n",
       "      <th>SHTS</th>\n",
       "      <th>SOG</th>\n",
       "      <th>GWG</th>\n",
       "      <th>HmG</th>\n",
       "      <th>...</th>\n",
       "      <th>GWA</th>\n",
       "      <th>HmA</th>\n",
       "      <th>RdA</th>\n",
       "      <th>A/90min</th>\n",
       "      <th>FC</th>\n",
       "      <th>FS</th>\n",
       "      <th>OFF</th>\n",
       "      <th>YC</th>\n",
       "      <th>RC</th>\n",
       "      <th>player_type</th>\n",
       "    </tr>\n",
       "  </thead>\n",
       "  <tbody>\n",
       "    <tr>\n",
       "      <th>9040</th>\n",
       "      <td>Jonathan Osorio</td>\n",
       "      <td>24</td>\n",
       "      <td>18</td>\n",
       "      <td>1756</td>\n",
       "      <td>5</td>\n",
       "      <td>4</td>\n",
       "      <td>27</td>\n",
       "      <td>14</td>\n",
       "      <td>2</td>\n",
       "      <td>3</td>\n",
       "      <td>...</td>\n",
       "      <td>1</td>\n",
       "      <td>3</td>\n",
       "      <td>1</td>\n",
       "      <td>0.21</td>\n",
       "      <td>11</td>\n",
       "      <td>21</td>\n",
       "      <td>2</td>\n",
       "      <td>2</td>\n",
       "      <td>0</td>\n",
       "      <td>2</td>\n",
       "    </tr>\n",
       "  </tbody>\n",
       "</table>\n",
       "<p>1 rows × 23 columns</p>\n",
       "</div>"
      ],
      "text/plain": [
       "               Player  GP  GS  MINS  G  A  SHTS  SOG  GWG  HmG  ...  GWA  HmA  \\\n",
       "9040  Jonathan Osorio  24  18  1756  5  4    27   14    2    3  ...    1    3   \n",
       "\n",
       "      RdA  A/90min  FC  FS  OFF  YC  RC  player_type  \n",
       "9040    1     0.21  11  21    2   2   0            2  \n",
       "\n",
       "[1 rows x 23 columns]"
      ]
     },
     "execution_count": 35,
     "metadata": {},
     "output_type": "execute_result"
    }
   ],
   "source": [
    "df_players.query('Player == \"Jonathan Osorio\"')"
   ]
  },
  {
   "cell_type": "code",
   "execution_count": null,
   "id": "f0c151c6",
   "metadata": {},
   "outputs": [],
   "source": []
  }
 ],
 "metadata": {
  "kernelspec": {
   "display_name": "Python 3 (ipykernel)",
   "language": "python",
   "name": "python3"
  },
  "language_info": {
   "codemirror_mode": {
    "name": "ipython",
    "version": 3
   },
   "file_extension": ".py",
   "mimetype": "text/x-python",
   "name": "python",
   "nbconvert_exporter": "python",
   "pygments_lexer": "ipython3",
   "version": "3.9.5"
  }
 },
 "nbformat": 4,
 "nbformat_minor": 5
}
